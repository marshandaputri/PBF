{
  "nbformat": 4,
  "nbformat_minor": 0,
  "metadata": {
    "colab": {
      "provenance": []
    },
    "kernelspec": {
      "name": "python3",
      "display_name": "Python 3"
    },
    "language_info": {
      "name": "python"
    }
  },
  "cells": [
    {
      "cell_type": "markdown",
      "source": [
        "Nama : Marshanda Putri \n",
        "Nim  : 121450020\n",
        "Kelas : RC"
      ],
      "metadata": {
        "id": "n90qfA9m-hyf"
      }
    },
    {
      "cell_type": "markdown",
      "source": [],
      "metadata": {
        "id": "bOhl8QmZ-sDZ"
      }
    },
    {
      "cell_type": "markdown",
      "source": [
        "**Introduction Section**\n",
        "---\n",
        "\n",
        "1. Jelaskan definisi object dalam Paradigma Object-Oriented!\n",
        "2. Jelaskan tiga tujuan dalam Paradigma Object-Oriented!\n",
        "3. Jelaskan tiga prinsip dalam Paradigma Object-Oriented!\n",
        "4. Sebutkan contoh design pattern dalam Paradigma Object-Oriented!\n",
        "\n"
      ],
      "metadata": {
        "id": "AcHOsRaQxKxe"
      }
    },
    {
      "cell_type": "markdown",
      "source": [],
      "metadata": {
        "id": "HJCFMXPY-3Mr"
      }
    },
    {
      "cell_type": "markdown",
      "source": [
        "**Jawab**\n",
        "---\n",
        "1. Dalam pemrograman berorientasi objek (OOP), objek adalah hal yang Anda pikirkan pertama kali dalam merancang sebuah program dan juga merupakan unit kode yang pada akhirnya diturunkan dari proses. Di antaranya, setiap objek dibuat menjadi kelas objek generik, dan bahkan lebih banyak kelas generik didefinisikan sehingga objek dapat berbagi model dan menggunakan kembali definisi kelas dalam kodenya. Setiap objek adalah turunan dari kelas atau subkelas tertentu dengan metode atau prosedur dan variabel data kelas itu sendiri. Objek adalah apa yang sebenarnya berjalan di komputer.\n",
        "\n",
        "2. Modularitas untuk pemecahan masalah yang lebih mudah, Penggunaan kembali kode melalui warisan, Fleksibilitas melalui polimorfisme, Pemecahan masalah yang efektif.\n",
        "\n",
        "3. Encaptulation, Inheritance (Penurunan Sifat), Abstraction (Abstraksi),Polymorphism.\n",
        "-Encapsulation pada OOP adalah konsep tentang pengikatan data atau metode berbeda yang disatukan atau “dikapsulkan” menjadi satu unit data.\n",
        "-Prinsip inheritance pada OOP adalah di mana kita dapat membentuk class baru yang “mewarisi” atau memiliki bagian-bagian dari class yang sudah ada sebelumnya. Konsep ini menggunakan sistem hirarki atau bertingkat.\n",
        "-prinsip abstract class OOP adalah class-class yang memiliki informasi abstrak dan metode-metode dari sekumpulan data. Abstract Class tidak bisa diubah dan  berlaku juga sebagai kerangka dalam penciptaan berbagai subclass (berperan seperti Superclass yang dibahas di konsep Inheritance).\n",
        "-rinsip polymorphism pada OOP adalah konsep di mana suatu objek berbeda-beda dapat diakses melalui satu interface. \n",
        "\n",
        "4. Creational Patterns, Structural Patterns, Behavioral Patterns, J2EE Patterns"
      ],
      "metadata": {
        "id": "zUuxBatBxkZq"
      }
    },
    {
      "cell_type": "markdown",
      "source": [],
      "metadata": {
        "id": "FD4uDHGu-9S0"
      }
    },
    {
      "cell_type": "markdown",
      "source": [
        "## __Class and Object__\n",
        "1. Jelaskan definisi Class!\n",
        "2. Jelaskan perbedaan Attribute dengan Method!\n",
        "3. Jelaskan apa itu instansiasi Object!\n",
        "4. Jelaskan apa itu identifier!"
      ],
      "metadata": {
        "id": "7_BRubL50u7j"
      }
    },
    {
      "cell_type": "markdown",
      "source": [],
      "metadata": {
        "id": "UgJLTTz5_ClL"
      }
    },
    {
      "cell_type": "markdown",
      "source": [
        "**Jawab**\n",
        "---\n",
        "\n",
        "1. Class di dalam OOP di gunakan untuk membuat sebuah kerangka kerja dalam membuat program.\n",
        "2. Attribute merupakan karakteristik dari suatu class. Attribut ini berupa suatu variable yang terletak tepat di dalam class. Attribute dari sebuah kelas adalah variabel global yang dimiliki sebuah kelas, Attribute dapat memiliki hak akses private, public maupun protected. Sementara Method merupakan fungsi yang merupakan kepemilikan dari objek tersebut serta sarana bagi programmer untuk memecah program kompleks menjadi bagian yang kecil-kecil,sehingga nantinya dapat digunakan berulang-ulang.\n",
        "3. Instance objek adalah kejadian atau fungsi spesifik dari suatu objek.\n",
        "4. Object Identifier adalah nama jangka panjang yang tidak ambigu untuk semua jenis objek atau entitas, selain itu Identifier (pengenal) merupakan nama yang diberikan untuk mengidentifikasi seperti variabel, fungsi, kelas dan lain sebagainya. Fungsi dari identifier sendiri adalah untuk membedakan antara entitas yang satu dengan entitas lainnya."
      ],
      "metadata": {
        "id": "BSIyeD6l016z"
      }
    },
    {
      "cell_type": "markdown",
      "source": [],
      "metadata": {
        "id": "EAwirsyp_J-B"
      }
    },
    {
      "cell_type": "markdown",
      "source": [
        "## __Implementing Class__\n",
        "Implementasikan kelas diagram \"Kendaraan\" berikut ke dalam Python!\n",
        "\n",
        "   Class Kendaraan :\n",
        "   \n",
        "    - string nomorPlat\n",
        "    - string merk\n",
        "    - string jenis\n",
        "    - string warna\n",
        "    - int tanggalBeli\n",
        "    - int bulanBeli\n",
        "    - int tahunBeli\n",
        "    - double berat\n",
        "    - double harga\n",
        "    - showTanggalPembelian()"
      ],
      "metadata": {
        "id": "a1f-1BVR3WcC"
      }
    },
    {
      "cell_type": "code",
      "source": [
        "class Kendaraan:\n",
        "  def __init__ (self, nomorPlat, merk, jenis, warna, tanggalBeli, bulanBeli, tahunBeli, berat, harga):\n",
        "    self.nomorPlat = nomorPlat\n",
        "    self.merk  = merk \n",
        "    self.jenis = jenis\n",
        "    self.warna = warna\n",
        "    self.tanggalBeli = tanggalBeli  \n",
        "    self.bulanBeli = bulanBeli  \n",
        "    self.tahunBeli = tahunBeli\n",
        "    self.berat = berat\n",
        "    self.harga = harga\n",
        "  \n",
        "  def showTanggalPembelian(self):\n",
        "    print(f\"{self.tanggalBeli}/{self.bulanBeli}/{self.tahunBeli}\")\n",
        "\n",
        "# Main Program \n",
        "KendaraanMotor = Kendaraan(\"SR 191102 NA \", \"Suzuki\", \"Matic\", \"Putih\", 19, 11, 2002, 450, 4500000)\n",
        "KendaraanMotor.showTanggalPembelian()"
      ],
      "metadata": {
        "colab": {
          "base_uri": "https://localhost:8080/"
        },
        "id": "mIH7ZHRl_UY3",
        "outputId": "54724755-8aa4-4e5a-ed6c-75bc67ecb015"
      },
      "execution_count": 1,
      "outputs": [
        {
          "output_type": "stream",
          "name": "stdout",
          "text": [
            "19/11/2002\n"
          ]
        }
      ]
    },
    {
      "cell_type": "markdown",
      "source": [],
      "metadata": {
        "id": "nwTR8Fvf_dV-"
      }
    },
    {
      "cell_type": "markdown",
      "source": [
        "## __Main OOP Concept__\n",
        "1. Jelaskan konsep encapsulation dalam Paradigma Object-Oriented!\n",
        "2. Jelaskan konsep inheritance dalam Paradigma Object-Oriented!\n",
        "3. Jelaskan perbedaan public method dan private method dalam encapsulation!\n",
        "4. Jelaskan perbedaan superclass dan subclass dalam inheritance!"
      ],
      "metadata": {
        "id": "pLaevbK13nwL"
      }
    },
    {
      "cell_type": "markdown",
      "source": [],
      "metadata": {
        "id": "rHtMOK37_hAs"
      }
    },
    {
      "cell_type": "markdown",
      "source": [
        "### __Jawaban__ :\n",
        "1. Dalam bahasa pemrograman komputer berorientasi objek (OOP), Encapsulation pada OOP adalah konsep tentang pengikatan data atau metode berbeda yang disatukan atau “dikapsulkan” menjadi satu unit data, atau konsep encapsulation yang digunakan untuk membatasi akses method agar tidak bisa diakses dari luar object. Encapsulation dapat memudahkan dalam pembacaan kode karena informasi yang disajikan tidak perlu dibaca secara rinci dan sudah merupakan satu kesatuan.\n",
        "\n",
        "2. Inheritance dalam konsep OOP adalah kemampuan untuk membentuk class baru yang memiliki fungsi turunan atau mirip dengan fungsi yang ada sebelumnya yang dimana kelas turunan akan selalu memiliki sifat dan perilaku yang sama dengan kelas induknya. Konsep ini menggunakan sistem hierarki atau bertingkat. yang dimana semakin jauh turunan atau subclass-nya, maka semakin sedikit kemiripan fungsinya.\n",
        "\n",
        "3. Public dapat diakses dari mana saja(luar class/fungsi).\n",
        "Private hanya dapat diakses dari objek itu sendiri atau berfungsi untuk memberikan akses properti yang hanya dapat diakses dari dalam class tersebut\n",
        "\n",
        "4. Superclass adalah kelas yang ada dari mana kelas baru diturunkan. Superclass digunakan untuk menunjukkan hirarki class yang berarti class dasar dari subclass/class anak.\n",
        "\n",
        "Subclass adalah kelas baru yang mewarisi properti dan metode Superclass. Suatu subclass tidak lain hanya memperluas (extend) parent class-nya, dan juga class anak atau turunan secara hirarki dari superclass.\n",
        "\n"
      ],
      "metadata": {
        "id": "-_X1TUlN3wT1"
      }
    },
    {
      "cell_type": "markdown",
      "source": [],
      "metadata": {
        "id": "Ie6yVYVx_98e"
      }
    },
    {
      "cell_type": "markdown",
      "source": [
        "## Programming Exercise\n",
        "- Buatlah class diagram dari code python berikut ini:\n",
        "\n",
        "```python\n",
        "class Koordinat:\n",
        "\tdef __init__(self,x,y):\n",
        "\t\tself.z = 0\n",
        "\t\tself.x = x\n",
        "\t\tself.y = y\n",
        "\tdef set_x(self,x):\n",
        "\t\tself.x = x\n",
        "\tdef increment_x(self):\n",
        "\t\tself.x+=1\n",
        "\tdef __str__(self):\n",
        "\t\treturn f\"x : {self.x} , y:{self.y} , z:{self.z}\"\n",
        "```"
      ],
      "metadata": {
        "id": "u1I97Bicylxk"
      }
    },
    {
      "cell_type": "markdown",
      "source": [],
      "metadata": {
        "id": "6sWfEJL5AASv"
      }
    },
    {
      "cell_type": "markdown",
      "source": [
        "<center>\n",
        "<table>\n",
        "  <tr>\n",
        "    <th>Koordinat</th>\n",
        "  </tr>\n",
        "  <tr>\n",
        "    <td>int z = 0<br><br> int x <br><br> int y </td>\n",
        "  </tr>\n",
        "  <tr>\n",
        "    <td>set_x() <br><br> increment_x() <br><br> __str__() </td>\n",
        "  </tr>\n",
        "</table>"
      ],
      "metadata": {
        "id": "CvgDLYaR7C-f"
      }
    },
    {
      "cell_type": "markdown",
      "source": [],
      "metadata": {
        "id": "iV31k_43AG3h"
      }
    },
    {
      "cell_type": "markdown",
      "source": [
        "- Implementasikan class diagram berikut menjadi program python!\n",
        "\n",
        "<center>\n",
        "<table>\n",
        "  <tr>\n",
        "    <th>Koordinat</th>\n",
        "  </tr>\n",
        "  <tr>\n",
        "    <td>int x <br><br> int y <br><br> int z </td>\n",
        "  </tr>\n",
        "  <tr>\n",
        "    <td>setx() <br><br> sety() <br><br> setz() </td>\n",
        "  </tr>\n",
        "</table>\n"
      ],
      "metadata": {
        "id": "N7WV6DRw_OAf"
      }
    },
    {
      "cell_type": "markdown",
      "source": [],
      "metadata": {
        "id": "BcNRxlMs-fOK"
      }
    },
    {
      "cell_type": "code",
      "source": [],
      "metadata": {
        "id": "RC18jRURANmc"
      },
      "execution_count": null,
      "outputs": []
    },
    {
      "cell_type": "code",
      "source": [
        "class Koordinat:\n",
        "  def __init__(self, x, y, z):\n",
        "    self.x = x\n",
        "    self.y = y\n",
        "    self.z = z\n",
        "  def setx(self, x):\n",
        "    self.x = x\n",
        "  def sety(self, y):\n",
        "    self.y = y\n",
        "  def setz(self, z):\n",
        "    self.z = z"
      ],
      "metadata": {
        "id": "kxcZIyWp_wmN"
      },
      "execution_count": 4,
      "outputs": []
    },
    {
      "cell_type": "markdown",
      "source": [],
      "metadata": {
        "id": "dS9i_5JGAQRQ"
      }
    },
    {
      "cell_type": "markdown",
      "source": [
        "<center>\n",
        "<table>\n",
        "  <tr>\n",
        "    <th>Vector</th>\n",
        "  </tr>\n",
        "  <tr>\n",
        "    <td>Koordinat Koordinat</td>\n",
        "  </tr>\n",
        "  <tr>\n",
        "    <td>setKoordinat() <br><br> getKoordinat() <br><br> norm()</td>\n",
        "  </tr>\n",
        "</table>"
      ],
      "metadata": {
        "id": "_KiADGjUAjZm"
      }
    },
    {
      "cell_type": "code",
      "source": [],
      "metadata": {
        "id": "gFIhg3y-AZiA"
      },
      "execution_count": null,
      "outputs": []
    },
    {
      "cell_type": "code",
      "source": [
        "class Vector:\n",
        "  def __init__(self, koordinat):\n",
        "    self.koordinat = koordinat\n",
        "  def setKoordinat(self, koor):\n",
        "    self.koordinat = koor\n",
        "  def getKoordinat(self, y):\n",
        "    return self.koordinat\n",
        "  def norm(self):\n",
        "    norm = 0\n",
        "    for i in range(len(self.koordinat)):\n",
        "      norm = norm + self.koordinat[i]**2\n",
        "    return norm**0.5"
      ],
      "metadata": {
        "id": "QKuNHtiPBNzR"
      },
      "execution_count": 3,
      "outputs": []
    },
    {
      "cell_type": "markdown",
      "source": [],
      "metadata": {
        "id": "TIOBP_BqAh9-"
      }
    },
    {
      "cell_type": "markdown",
      "source": [
        "- fungsi norm() adalah fungsi untuk menghitung norm dari sebuah vector yaitu\n",
        "norm = $\\sqrt{x^2 + y^2 + z^2}$ . Buatlah fungsi untuk menghitung norm dari vector berdasarkan class yang telah anda buat! "
      ],
      "metadata": {
        "id": "lZ_G5zsxC2pm"
      }
    },
    {
      "cell_type": "code",
      "source": [],
      "metadata": {
        "id": "XpI0pienAjjY"
      },
      "execution_count": null,
      "outputs": []
    },
    {
      "cell_type": "code",
      "source": [
        "class Vector:\n",
        "  def __init__(self, koordinat):\n",
        "      self.koordinat = koordinat\n",
        "  def setKoordinat(self, koor):\n",
        "      self.koordinat = koor\n",
        "  def getKoordinat(self, y):\n",
        "      return self.koordinat\n",
        "  def norm(self):\n",
        "      norm = 0\n",
        "      for i in range(len(self.koordinat)):\n",
        "        norm = norm + self.koordinat[i]**2\n",
        "      return norm**0.5\n",
        "\n",
        "koordinat = Vector([7, 24, 25])\n",
        "koordinat.norm()"
      ],
      "metadata": {
        "colab": {
          "base_uri": "https://localhost:8080/"
        },
        "id": "CtNf-QJGC3yG",
        "outputId": "31e54e95-36de-4b1a-ce07-f51bd39d1d5a"
      },
      "execution_count": 2,
      "outputs": [
        {
          "output_type": "execute_result",
          "data": {
            "text/plain": [
              "35.35533905932738"
            ]
          },
          "metadata": {},
          "execution_count": 2
        }
      ]
    },
    {
      "cell_type": "markdown",
      "source": [],
      "metadata": {
        "id": "xRQaTQyuA1_z"
      }
    },
    {
      "cell_type": "markdown",
      "source": [
        "- Perhatikan tabel berikut\n",
        "\n",
        "| Vector | x   | y   | z   | kelas |\n",
        "| ------ | --- | --- | --- | ----- |\n",
        "| A      | 0   | 1   | 1   | 0     |\n",
        "| B      | 2   | 2   | 2   | 1     |\n",
        "| C      | 1.5 | 1.2 | 1.5 | 1     |\n",
        "| D      | 10  | 9   | 8   | 0     |\n",
        "| E      | 5   | 5   | 5   | 0     |\n",
        "| F      | 8   | 8   | 8   | 0     |\n",
        "| G      | 6   | 6   | 1   | 0     |\n",
        "| H      | 3   | 3   | 3   | ?     |\n",
        "\n",
        "Salah satu metode dalam data science untuk melakukan klasifikasi adalah dengan menggunakan k-nearest neighbor, dimana cara menentukan label kelas adalah dengan cara melihat tetangga dengan euclidian distance terdekat. Tentukan kelas dari vector H dengan cara:\n",
        "- Tentukan 3 tetangga paling dekat dari H \n",
        "- dari 3 tetangga tersebut, pilih kelas yang paling banyak muncul\n",
        "- Jadikan kelas yang paling banyak muncul tersebut sebagai kelas dari vector H\n",
        "\n",
        "Implementasikan algoritma tersebut menggunakan program python dengan paradigma object-oriented programming yang telah anda pelajari!"
      ],
      "metadata": {
        "id": "w6UOOc3lH83f"
      }
    },
    {
      "cell_type": "code",
      "source": [],
      "metadata": {
        "id": "tn8dxTJyA8Bb"
      },
      "execution_count": null,
      "outputs": []
    },
    {
      "cell_type": "code",
      "source": [
        "from math import sqrt\n",
        "import statistics\n",
        "class Vektor:\n",
        "  def __init__(self, vektor, x, y, z, nama_vektor):\n",
        "    self.vektor = vektor\n",
        "    self.x = x\n",
        "    self.y = y\n",
        "    self.z = z\n",
        "    self.nama_vektor = nama_vektor\n",
        "    self.kls_h = 0\n",
        "\n",
        "  def jarak(self):\n",
        "    vkt = []\n",
        "    jarak = []\n",
        "    # Jarak tetangga\n",
        "    for i in self.vektor:\n",
        "        komponen_vektor = list(self.vektor[i].values())\n",
        "        def dekat(komponen_vektor):\n",
        "            distance = 0\n",
        "            for i in komponen_vektor:\n",
        "                distance = sqrt((self.x-komponen_vektor[1])**2 + (self.y-komponen_vektor[2])**2 + (self.z-komponen_vektor[3])**2)\n",
        "            return distance\n",
        "        vkt = vkt + [self.vektor[i]]\n",
        "        jarak = jarak + [round(dekat(komponen_vektor), 2)]\n",
        "        print(f\"Jarak vektor {self.vektor[i]['vektor']} dengan vektor H adalah sebesar {round(dekat(komponen_vektor), 2)}\")\n",
        "    val_sorted = sorted(jarak)\n",
        "    tetangga = {}\n",
        "    for i in range(len(jarak)):\n",
        "        tetangga[jarak[i]] = vkt[i]    \n",
        "    print(\"Urutannya adalah:\")\n",
        "    for j in range(len(val_sorted)): \n",
        "        print(f\"Jarak vektor {tetangga[val_sorted[j]]['vektor']} dengan vektor H adalah sebesar {val_sorted[j]}\")\n",
        "    print(\"3 Tetangga terdekat:\")\n",
        "    kls = []\n",
        "    for k in range(3):\n",
        "        print(f\"Vektor {tetangga[val_sorted[k]]['vektor']} dengan kelas {tetangga[val_sorted[k]]['kelas']} pada jarak {val_sorted[k]} dengan vektor H\")\n",
        "        kls = kls + [tetangga[val_sorted[k]]['kelas']]\n",
        "    self.kls_h = statistics.mode(kls)\n",
        "    print(\"Kelas yang paling banyak muncul adalah = \", self.kls_h)\n",
        "    print(\"Kelas dari vektor H = \", self.kls_h)\n",
        "\n",
        "  def kelas(self):\n",
        "    return {'vektor': self.nama_vektor, 'x' : self.x, 'y' : self.y, 'z': self.z, 'kelas': self.kls_h}\n",
        "\n"
      ],
      "metadata": {
        "id": "RBZ_A0s4Ni6l"
      },
      "execution_count": 5,
      "outputs": []
    },
    {
      "cell_type": "code",
      "source": [],
      "metadata": {
        "id": "ZAA6Buj8BJpZ"
      },
      "execution_count": null,
      "outputs": []
    },
    {
      "cell_type": "code",
      "source": [
        "from math import sqrt\n",
        "import statistics\n",
        "class Vektor:\n",
        "  def __init__(self, vektor, x, y, z, nama_vektor):\n",
        "    self.vektor = vektor\n",
        "    self.x = x\n",
        "    self.y = y\n",
        "    self.z = z\n",
        "    self.nama_vektor = nama_vektor\n",
        "    self.kls_h = 0\n",
        "\n",
        "  def jarak(self):\n",
        "    vkt = []\n",
        "    jarak = []\n",
        "    # Jarak tetangga\n",
        "    for i in self.vektor:\n",
        "        komponen_vektor = list(self.vektor[i].values())\n",
        "        def dekat(komponen_vektor):\n",
        "            distance = 0\n",
        "            for i in komponen_vektor:\n",
        "                distance = sqrt((self.x-komponen_vektor[1])**2 + (self.y-komponen_vektor[2])**2 + (self.z-komponen_vektor[3])**2)\n",
        "            return distance\n",
        "        vkt = vkt + [self.vektor[i]]\n",
        "        jarak = jarak + [round(dekat(komponen_vektor), 2)]\n",
        "        print(f\"Jarak vektor {self.vektor[i]['vektor']} dengan vektor H adalah sebesar {round(dekat(komponen_vektor), 2)}\")\n",
        "    val_sorted = sorted(jarak)\n",
        "    tetangga = {}\n",
        "    for i in range(len(jarak)):\n",
        "        tetangga[jarak[i]] = vkt[i]    \n",
        "    print(\"Urutannya adalah:\")\n",
        "    for j in range(len(val_sorted)): \n",
        "        print(f\"Jarak vektor {tetangga[val_sorted[j]]['vektor']} dengan vektor H adalah sebesar {val_sorted[j]}\")\n",
        "    print(\"3 Tetangga terdekat:\")\n",
        "    kls = []\n",
        "    for k in range(3):\n",
        "        print(f\"Vektor {tetangga[val_sorted[k]]['vektor']} dengan kelas {tetangga[val_sorted[k]]['kelas']} pada jarak {val_sorted[k]} dengan vektor H\")\n",
        "        kls = kls + [tetangga[val_sorted[k]]['kelas']]\n",
        "    self.kls_h = statistics.mode(kls)\n",
        "    print(\"Kelas yang paling banyak muncul adalah = \", self.kls_h)\n",
        "    print(\"Kelas dari vektor H = \", self.kls_h)\n",
        "\n",
        "  def kelas(self):\n",
        "    return {'vektor': self.nama_vektor, 'x' : self.x, 'y' : self.y, 'z': self.z, 'kelas': self.kls_h}\n",
        "\n"
      ],
      "metadata": {
        "id": "_BLdbVfeBKHp"
      },
      "execution_count": 6,
      "outputs": []
    },
    {
      "cell_type": "markdown",
      "source": [],
      "metadata": {
        "id": "g-a9ob3OAqer"
      }
    },
    {
      "cell_type": "code",
      "source": [],
      "metadata": {
        "id": "I3oiSwwMBSul"
      },
      "execution_count": null,
      "outputs": []
    },
    {
      "cell_type": "code",
      "source": [
        "tabel = {\n",
        "    \"vektor1\" : {'vektor': 'A', 'x' : 0, 'y' : 1, 'z': 1, 'kelas': 0 },\n",
        "    \"vektor2\" : {'vektor': 'B', 'x' : 2, 'y' : 2, 'z': 2, 'kelas': 1},\n",
        "    \"vektor3\" : {'vektor': 'C', 'x' : 1.5, 'y' : 1.2, 'z': 1, 'kelas': 1},\n",
        "    \"vektor4\" : {'vektor': 'D', 'x' : 10, 'y' : 9, 'z': 0, 'kelas': 0},\n",
        "    \"vektor5\" : {'vektor': 'E', 'x' : 5, 'y' : 5, 'z': 5, 'kelas': 0},\n",
        "    \"vektor6\" : {'vektor': 'F', 'x' : 8, 'y' : 8, 'z': 0, 'kelas': 0},\n",
        "    \"vektor7\" : {'vektor': 'G', 'x' : 6, 'y' : 6, 'z': 0, 'kelas': 0},\n",
        "}\n",
        "for key in tabel:\n",
        "    print(tabel[key])\n",
        "vektorh = [3, 3, 3, \"H\"]\n",
        "print(\"\\n\")\n",
        "print({'vektor': vektorh[3], 'x' : vektorh[0], 'y' : vektorh[1], 'z': vektorh[2], 'kelas': '?'})\n",
        "print(\"\\n\")\n",
        "data = Vektor(tabel, vektorh[0], vektorh[1], vektorh[2], vektorh[3])\n",
        "data.jarak()\n",
        "print(data.kelas())\n",
        "tabel[\"vektor8\"] = data.kelas()\n",
        "print(\"\\n\")\n",
        "for key in tabel:\n",
        "    print(tabel[key])\n"
      ],
      "metadata": {
        "colab": {
          "base_uri": "https://localhost:8080/"
        },
        "id": "dlaJEv5DVqmf",
        "outputId": "3886f6da-9fd5-4c82-a6b9-b10f8d9ad729"
      },
      "execution_count": 7,
      "outputs": [
        {
          "output_type": "stream",
          "name": "stdout",
          "text": [
            "{'vektor': 'A', 'x': 0, 'y': 1, 'z': 1, 'kelas': 0}\n",
            "{'vektor': 'B', 'x': 2, 'y': 2, 'z': 2, 'kelas': 1}\n",
            "{'vektor': 'C', 'x': 1.5, 'y': 1.2, 'z': 1, 'kelas': 1}\n",
            "{'vektor': 'D', 'x': 10, 'y': 9, 'z': 0, 'kelas': 0}\n",
            "{'vektor': 'E', 'x': 5, 'y': 5, 'z': 5, 'kelas': 0}\n",
            "{'vektor': 'F', 'x': 8, 'y': 8, 'z': 0, 'kelas': 0}\n",
            "{'vektor': 'G', 'x': 6, 'y': 6, 'z': 0, 'kelas': 0}\n",
            "\n",
            "\n",
            "{'vektor': 'H', 'x': 3, 'y': 3, 'z': 3, 'kelas': '?'}\n",
            "\n",
            "\n",
            "Jarak vektor A dengan vektor H adalah sebesar 4.12\n",
            "Jarak vektor B dengan vektor H adalah sebesar 1.73\n",
            "Jarak vektor C dengan vektor H adalah sebesar 3.08\n",
            "Jarak vektor D dengan vektor H adalah sebesar 9.7\n",
            "Jarak vektor E dengan vektor H adalah sebesar 3.46\n",
            "Jarak vektor F dengan vektor H adalah sebesar 7.68\n",
            "Jarak vektor G dengan vektor H adalah sebesar 5.2\n",
            "Urutannya adalah:\n",
            "Jarak vektor B dengan vektor H adalah sebesar 1.73\n",
            "Jarak vektor C dengan vektor H adalah sebesar 3.08\n",
            "Jarak vektor E dengan vektor H adalah sebesar 3.46\n",
            "Jarak vektor A dengan vektor H adalah sebesar 4.12\n",
            "Jarak vektor G dengan vektor H adalah sebesar 5.2\n",
            "Jarak vektor F dengan vektor H adalah sebesar 7.68\n",
            "Jarak vektor D dengan vektor H adalah sebesar 9.7\n",
            "3 Tetangga terdekat:\n",
            "Vektor B dengan kelas 1 pada jarak 1.73 dengan vektor H\n",
            "Vektor C dengan kelas 1 pada jarak 3.08 dengan vektor H\n",
            "Vektor E dengan kelas 0 pada jarak 3.46 dengan vektor H\n",
            "Kelas yang paling banyak muncul adalah =  1\n",
            "Kelas dari vektor H =  1\n",
            "{'vektor': 'H', 'x': 3, 'y': 3, 'z': 3, 'kelas': 1}\n",
            "\n",
            "\n",
            "{'vektor': 'A', 'x': 0, 'y': 1, 'z': 1, 'kelas': 0}\n",
            "{'vektor': 'B', 'x': 2, 'y': 2, 'z': 2, 'kelas': 1}\n",
            "{'vektor': 'C', 'x': 1.5, 'y': 1.2, 'z': 1, 'kelas': 1}\n",
            "{'vektor': 'D', 'x': 10, 'y': 9, 'z': 0, 'kelas': 0}\n",
            "{'vektor': 'E', 'x': 5, 'y': 5, 'z': 5, 'kelas': 0}\n",
            "{'vektor': 'F', 'x': 8, 'y': 8, 'z': 0, 'kelas': 0}\n",
            "{'vektor': 'G', 'x': 6, 'y': 6, 'z': 0, 'kelas': 0}\n",
            "{'vektor': 'H', 'x': 3, 'y': 3, 'z': 3, 'kelas': 1}\n"
          ]
        }
      ]
    }
  ]
}